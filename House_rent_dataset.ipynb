{
  "nbformat": 4,
  "nbformat_minor": 0,
  "metadata": {
    "colab": {
      "provenance": [],
      "authorship_tag": "ABX9TyPd2bfaCpHxK2HzfpojZLA8",
      "include_colab_link": true
    },
    "kernelspec": {
      "name": "python3",
      "display_name": "Python 3"
    },
    "language_info": {
      "name": "python"
    }
  },
  "cells": [
    {
      "cell_type": "markdown",
      "metadata": {
        "id": "view-in-github",
        "colab_type": "text"
      },
      "source": [
        "<a href=\"https://colab.research.google.com/github/SiddharthBloke/RL-Repository/blob/main/House_rent_dataset.ipynb\" target=\"_parent\"><img src=\"https://colab.research.google.com/assets/colab-badge.svg\" alt=\"Open In Colab\"/></a>"
      ]
    },
    {
      "cell_type": "code",
      "execution_count": 1,
      "metadata": {
        "id": "BHqFIzw0iv6f"
      },
      "outputs": [],
      "source": [
        "import numpy as np\n",
        "import pandas as pd\n",
        "import seaborn as sns\n",
        "from matplotlib import pyplot as plt\n",
        "from scipy.stats import norm"
      ]
    },
    {
      "cell_type": "code",
      "source": [
        "data = pd.read_csv(\"House_Rent_Dataset.csv\")"
      ],
      "metadata": {
        "id": "NNEgxUATiyXD"
      },
      "execution_count": null,
      "outputs": []
    },
    {
      "cell_type": "code",
      "source": [
        "data"
      ],
      "metadata": {
        "id": "db2T47xri0P1"
      },
      "execution_count": null,
      "outputs": []
    },
    {
      "cell_type": "code",
      "source": [
        "data.shape"
      ],
      "metadata": {
        "id": "N-xyvKQmi1-u"
      },
      "execution_count": null,
      "outputs": []
    },
    {
      "cell_type": "code",
      "source": [
        "data[[\"BHK\", \"Rent\", \"Size\", \"Floor\", \"Area Type\", \"Area Locality\", \"City\", \"Furnishing Status\", \"Tenant Preferred\", \"Bathroom\", \"Point of Contact\"]].d"
      ],
      "metadata": {
        "id": "e8hW_Wjpi4p2"
      },
      "execution_count": null,
      "outputs": []
    },
    {
      "cell_type": "code",
      "source": [
        "plt.figure(figsize = (6, 5))\n",
        "data[\"Rent\"].plot(kind = \"hist\")"
      ],
      "metadata": {
        "id": "2YMMLQgwi7RC"
      },
      "execution_count": null,
      "outputs": []
    },
    {
      "cell_type": "code",
      "source": [
        "data[\"Rent\"].describe()"
      ],
      "metadata": {
        "id": "70ZnFdnki9qX"
      },
      "execution_count": null,
      "outputs": []
    },
    {
      "cell_type": "code",
      "source": [
        "corrmat = data.corr()"
      ],
      "metadata": {
        "id": "GMDGtpUEjAUH"
      },
      "execution_count": null,
      "outputs": []
    },
    {
      "cell_type": "code",
      "source": [
        "f, ax = plt.subplots(figsize = (7, 6))\n",
        "sns.heatmap(corrmat, ax = ax, cmap = \"YlGnBu\", linewidths = 0.1)"
      ],
      "metadata": {
        "id": "hqVKCcBdjDCo"
      },
      "execution_count": null,
      "outputs": []
    }
  ]
}