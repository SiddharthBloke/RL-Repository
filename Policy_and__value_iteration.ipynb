{
  "nbformat": 4,
  "nbformat_minor": 0,
  "metadata": {
    "colab": {
      "provenance": [],
      "authorship_tag": "ABX9TyM3cGjl4YF6xjdTq+1rMyzr",
      "include_colab_link": true
    },
    "kernelspec": {
      "name": "python3",
      "display_name": "Python 3"
    },
    "language_info": {
      "name": "python"
    }
  },
  "cells": [
    {
      "cell_type": "markdown",
      "metadata": {
        "id": "view-in-github",
        "colab_type": "text"
      },
      "source": [
        "<a href=\"https://colab.research.google.com/github/SiddharthBloke/RL-Repository/blob/main/Policy_and__value_iteration.ipynb\" target=\"_parent\"><img src=\"https://colab.research.google.com/assets/colab-badge.svg\" alt=\"Open In Colab\"/></a>"
      ]
    },
    {
      "cell_type": "code",
      "execution_count": 1,
      "metadata": {
        "id": "goOM5k0KLSnk"
      },
      "outputs": [],
      "source": [
        "import numpy as np"
      ]
    },
    {
      "cell_type": "code",
      "source": [
        "states = [0,1,2,3,4]\n",
        "action=[0,1]\n",
        "N_STATES = len(states)\n",
        "N_ACTIONS = len(action)"
      ],
      "metadata": {
        "id": "__LX9unWLZb2"
      },
      "execution_count": 2,
      "outputs": []
    },
    {
      "cell_type": "code",
      "source": [
        "print(N_STATES)"
      ],
      "metadata": {
        "colab": {
          "base_uri": "https://localhost:8080/"
        },
        "id": "9G7z3cd8LZgu",
        "outputId": "03303bfb-9b59-4191-f92c-ccc175d06810"
      },
      "execution_count": 3,
      "outputs": [
        {
          "output_type": "stream",
          "name": "stdout",
          "text": [
            "5\n"
          ]
        }
      ]
    },
    {
      "cell_type": "code",
      "source": [
        "print(N_ACTIONS)"
      ],
      "metadata": {
        "colab": {
          "base_uri": "https://localhost:8080/"
        },
        "id": "R2xzreHNLZkQ",
        "outputId": "a3d19b8a-59bd-43f7-fa4f-86a75127db0f"
      },
      "execution_count": 4,
      "outputs": [
        {
          "output_type": "stream",
          "name": "stdout",
          "text": [
            "2\n"
          ]
        }
      ]
    },
    {
      "cell_type": "code",
      "source": [
        "P = np.zeros((N_STATES,N_ACTIONS,N_STATES)) "
      ],
      "metadata": {
        "id": "MpMQruLiLZn2"
      },
      "execution_count": 5,
      "outputs": []
    },
    {
      "cell_type": "code",
      "source": [
        "print(P)"
      ],
      "metadata": {
        "colab": {
          "base_uri": "https://localhost:8080/"
        },
        "id": "D5gh60kJLZrB",
        "outputId": "17c4d336-78dc-45b6-f1dd-cfa1acf99231"
      },
      "execution_count": 6,
      "outputs": [
        {
          "output_type": "stream",
          "name": "stdout",
          "text": [
            "[[[0. 0. 0. 0. 0.]\n",
            "  [0. 0. 0. 0. 0.]]\n",
            "\n",
            " [[0. 0. 0. 0. 0.]\n",
            "  [0. 0. 0. 0. 0.]]\n",
            "\n",
            " [[0. 0. 0. 0. 0.]\n",
            "  [0. 0. 0. 0. 0.]]\n",
            "\n",
            " [[0. 0. 0. 0. 0.]\n",
            "  [0. 0. 0. 0. 0.]]\n",
            "\n",
            " [[0. 0. 0. 0. 0.]\n",
            "  [0. 0. 0. 0. 0.]]]\n"
          ]
        }
      ]
    },
    {
      "cell_type": "code",
      "source": [
        "R = np.zeros((N_STATES,N_ACTIONS,N_STATES)) "
      ],
      "metadata": {
        "id": "03GPNZd0LZuR"
      },
      "execution_count": 7,
      "outputs": []
    },
    {
      "cell_type": "code",
      "source": [
        "print(R)"
      ],
      "metadata": {
        "colab": {
          "base_uri": "https://localhost:8080/"
        },
        "id": "yTRfPOBXLm1M",
        "outputId": "d98e1671-3a04-4661-fe7b-5e7c3311e360"
      },
      "execution_count": 8,
      "outputs": [
        {
          "output_type": "stream",
          "name": "stdout",
          "text": [
            "[[[0. 0. 0. 0. 0.]\n",
            "  [0. 0. 0. 0. 0.]]\n",
            "\n",
            " [[0. 0. 0. 0. 0.]\n",
            "  [0. 0. 0. 0. 0.]]\n",
            "\n",
            " [[0. 0. 0. 0. 0.]\n",
            "  [0. 0. 0. 0. 0.]]\n",
            "\n",
            " [[0. 0. 0. 0. 0.]\n",
            "  [0. 0. 0. 0. 0.]]\n",
            "\n",
            " [[0. 0. 0. 0. 0.]\n",
            "  [0. 0. 0. 0. 0.]]]\n"
          ]
        }
      ]
    },
    {
      "cell_type": "code",
      "source": [
        "P[0,0,1] =1.0"
      ],
      "metadata": {
        "id": "pRVdRTKLLm3k"
      },
      "execution_count": 9,
      "outputs": []
    },
    {
      "cell_type": "code",
      "source": [
        "print(P)"
      ],
      "metadata": {
        "colab": {
          "base_uri": "https://localhost:8080/"
        },
        "id": "NG7JeKlFLm6w",
        "outputId": "043e9cc0-0471-4193-c391-5e501223313c"
      },
      "execution_count": 10,
      "outputs": [
        {
          "output_type": "stream",
          "name": "stdout",
          "text": [
            "[[[0. 1. 0. 0. 0.]\n",
            "  [0. 0. 0. 0. 0.]]\n",
            "\n",
            " [[0. 0. 0. 0. 0.]\n",
            "  [0. 0. 0. 0. 0.]]\n",
            "\n",
            " [[0. 0. 0. 0. 0.]\n",
            "  [0. 0. 0. 0. 0.]]\n",
            "\n",
            " [[0. 0. 0. 0. 0.]\n",
            "  [0. 0. 0. 0. 0.]]\n",
            "\n",
            " [[0. 0. 0. 0. 0.]\n",
            "  [0. 0. 0. 0. 0.]]]\n"
          ]
        }
      ]
    },
    {
      "cell_type": "code",
      "source": [
        "P[2,0,3] =1.0"
      ],
      "metadata": {
        "id": "MIlffRN7Lm9w"
      },
      "execution_count": 11,
      "outputs": []
    },
    {
      "cell_type": "code",
      "source": [
        "print(P)"
      ],
      "metadata": {
        "colab": {
          "base_uri": "https://localhost:8080/"
        },
        "id": "b8KHY_pLLnAW",
        "outputId": "6a6c14a0-244e-4123-f92b-1e28273d87f6"
      },
      "execution_count": 12,
      "outputs": [
        {
          "output_type": "stream",
          "name": "stdout",
          "text": [
            "[[[0. 1. 0. 0. 0.]\n",
            "  [0. 0. 0. 0. 0.]]\n",
            "\n",
            " [[0. 0. 0. 0. 0.]\n",
            "  [0. 0. 0. 0. 0.]]\n",
            "\n",
            " [[0. 0. 0. 1. 0.]\n",
            "  [0. 0. 0. 0. 0.]]\n",
            "\n",
            " [[0. 0. 0. 0. 0.]\n",
            "  [0. 0. 0. 0. 0.]]\n",
            "\n",
            " [[0. 0. 0. 0. 0.]\n",
            "  [0. 0. 0. 0. 0.]]]\n"
          ]
        }
      ]
    },
    {
      "cell_type": "code",
      "source": [
        "P[3,1,4] =1.0"
      ],
      "metadata": {
        "id": "M9s64ZvELyKC"
      },
      "execution_count": 13,
      "outputs": []
    },
    {
      "cell_type": "code",
      "source": [
        "print(P)"
      ],
      "metadata": {
        "colab": {
          "base_uri": "https://localhost:8080/"
        },
        "id": "yuPRaETgLyNf",
        "outputId": "fce24567-f255-43ff-e3f3-a4ac9c88412d"
      },
      "execution_count": 14,
      "outputs": [
        {
          "output_type": "stream",
          "name": "stdout",
          "text": [
            "[[[0. 1. 0. 0. 0.]\n",
            "  [0. 0. 0. 0. 0.]]\n",
            "\n",
            " [[0. 0. 0. 0. 0.]\n",
            "  [0. 0. 0. 0. 0.]]\n",
            "\n",
            " [[0. 0. 0. 1. 0.]\n",
            "  [0. 0. 0. 0. 0.]]\n",
            "\n",
            " [[0. 0. 0. 0. 0.]\n",
            "  [0. 0. 0. 0. 1.]]\n",
            "\n",
            " [[0. 0. 0. 0. 0.]\n",
            "  [0. 0. 0. 0. 0.]]]\n"
          ]
        }
      ]
    },
    {
      "cell_type": "code",
      "source": [
        "P[4,0,4] =1.0"
      ],
      "metadata": {
        "id": "rcgtecoqLyRu"
      },
      "execution_count": 15,
      "outputs": []
    },
    {
      "cell_type": "code",
      "source": [
        "print(P)"
      ],
      "metadata": {
        "colab": {
          "base_uri": "https://localhost:8080/"
        },
        "id": "A0q3rmyZL2kS",
        "outputId": "b02809fa-7f76-4ed9-f526-44b759707521"
      },
      "execution_count": 16,
      "outputs": [
        {
          "output_type": "stream",
          "name": "stdout",
          "text": [
            "[[[0. 1. 0. 0. 0.]\n",
            "  [0. 0. 0. 0. 0.]]\n",
            "\n",
            " [[0. 0. 0. 0. 0.]\n",
            "  [0. 0. 0. 0. 0.]]\n",
            "\n",
            " [[0. 0. 0. 1. 0.]\n",
            "  [0. 0. 0. 0. 0.]]\n",
            "\n",
            " [[0. 0. 0. 0. 0.]\n",
            "  [0. 0. 0. 0. 1.]]\n",
            "\n",
            " [[0. 0. 0. 0. 1.]\n",
            "  [0. 0. 0. 0. 0.]]]\n"
          ]
        }
      ]
    },
    {
      "cell_type": "code",
      "source": [
        "R[0,0,1]=1"
      ],
      "metadata": {
        "id": "LsYoodX0L2nZ"
      },
      "execution_count": 17,
      "outputs": []
    },
    {
      "cell_type": "code",
      "source": [
        "print(R)"
      ],
      "metadata": {
        "colab": {
          "base_uri": "https://localhost:8080/"
        },
        "id": "wwzEZ5XqL2qs",
        "outputId": "e5273e86-b67b-4ba9-9672-605a035f0083"
      },
      "execution_count": 18,
      "outputs": [
        {
          "output_type": "stream",
          "name": "stdout",
          "text": [
            "[[[0. 1. 0. 0. 0.]\n",
            "  [0. 0. 0. 0. 0.]]\n",
            "\n",
            " [[0. 0. 0. 0. 0.]\n",
            "  [0. 0. 0. 0. 0.]]\n",
            "\n",
            " [[0. 0. 0. 0. 0.]\n",
            "  [0. 0. 0. 0. 0.]]\n",
            "\n",
            " [[0. 0. 0. 0. 0.]\n",
            "  [0. 0. 0. 0. 0.]]\n",
            "\n",
            " [[0. 0. 0. 0. 0.]\n",
            "  [0. 0. 0. 0. 0.]]]\n"
          ]
        }
      ]
    },
    {
      "cell_type": "code",
      "source": [
        "R[1,1,2]=10"
      ],
      "metadata": {
        "id": "paFCgG8rL2te"
      },
      "execution_count": 19,
      "outputs": []
    },
    {
      "cell_type": "code",
      "source": [
        "print(R)"
      ],
      "metadata": {
        "colab": {
          "base_uri": "https://localhost:8080/"
        },
        "id": "3XdS6xL-L9-Y",
        "outputId": "91cc3fd2-dbe1-457d-d88e-6e2fc961f45c"
      },
      "execution_count": 20,
      "outputs": [
        {
          "output_type": "stream",
          "name": "stdout",
          "text": [
            "[[[ 0.  1.  0.  0.  0.]\n",
            "  [ 0.  0.  0.  0.  0.]]\n",
            "\n",
            " [[ 0.  0.  0.  0.  0.]\n",
            "  [ 0.  0. 10.  0.  0.]]\n",
            "\n",
            " [[ 0.  0.  0.  0.  0.]\n",
            "  [ 0.  0.  0.  0.  0.]]\n",
            "\n",
            " [[ 0.  0.  0.  0.  0.]\n",
            "  [ 0.  0.  0.  0.  0.]]\n",
            "\n",
            " [[ 0.  0.  0.  0.  0.]\n",
            "  [ 0.  0.  0.  0.  0.]]]\n"
          ]
        }
      ]
    },
    {
      "cell_type": "code",
      "source": [
        "R[2,0,3]=100"
      ],
      "metadata": {
        "id": "_AmK-EZGL-BX"
      },
      "execution_count": 21,
      "outputs": []
    },
    {
      "cell_type": "code",
      "source": [
        "print(R)"
      ],
      "metadata": {
        "colab": {
          "base_uri": "https://localhost:8080/"
        },
        "id": "yCjPrBQLL-EY",
        "outputId": "d1040a4b-4104-49f6-eff6-6e386c233eea"
      },
      "execution_count": 22,
      "outputs": [
        {
          "output_type": "stream",
          "name": "stdout",
          "text": [
            "[[[  0.   1.   0.   0.   0.]\n",
            "  [  0.   0.   0.   0.   0.]]\n",
            "\n",
            " [[  0.   0.   0.   0.   0.]\n",
            "  [  0.   0.  10.   0.   0.]]\n",
            "\n",
            " [[  0.   0.   0. 100.   0.]\n",
            "  [  0.   0.   0.   0.   0.]]\n",
            "\n",
            " [[  0.   0.   0.   0.   0.]\n",
            "  [  0.   0.   0.   0.   0.]]\n",
            "\n",
            " [[  0.   0.   0.   0.   0.]\n",
            "  [  0.   0.   0.   0.   0.]]]\n"
          ]
        }
      ]
    },
    {
      "cell_type": "code",
      "source": [
        "R[3,1,4]=1000"
      ],
      "metadata": {
        "id": "RPX7aAeJL-HS"
      },
      "execution_count": 23,
      "outputs": []
    },
    {
      "cell_type": "code",
      "source": [
        "print(R)"
      ],
      "metadata": {
        "colab": {
          "base_uri": "https://localhost:8080/"
        },
        "id": "Gj2ZIUMmMHW4",
        "outputId": "1c2f88bd-1b76-4107-cdd2-62dd886b6634"
      },
      "execution_count": 24,
      "outputs": [
        {
          "output_type": "stream",
          "name": "stdout",
          "text": [
            "[[[   0.    1.    0.    0.    0.]\n",
            "  [   0.    0.    0.    0.    0.]]\n",
            "\n",
            " [[   0.    0.    0.    0.    0.]\n",
            "  [   0.    0.   10.    0.    0.]]\n",
            "\n",
            " [[   0.    0.    0.  100.    0.]\n",
            "  [   0.    0.    0.    0.    0.]]\n",
            "\n",
            " [[   0.    0.    0.    0.    0.]\n",
            "  [   0.    0.    0.    0. 1000.]]\n",
            "\n",
            " [[   0.    0.    0.    0.    0.]\n",
            "  [   0.    0.    0.    0.    0.]]]\n"
          ]
        }
      ]
    },
    {
      "cell_type": "code",
      "source": [
        "R[4,0,4]=1.0"
      ],
      "metadata": {
        "id": "A336hvv0MHZ6"
      },
      "execution_count": 25,
      "outputs": []
    },
    {
      "cell_type": "code",
      "source": [
        "print(R)"
      ],
      "metadata": {
        "colab": {
          "base_uri": "https://localhost:8080/"
        },
        "id": "2GZQE1JUMHdL",
        "outputId": "c6d0f6cf-0dcf-487d-b8aa-a5855d68d004"
      },
      "execution_count": 26,
      "outputs": [
        {
          "output_type": "stream",
          "name": "stdout",
          "text": [
            "[[[   0.    1.    0.    0.    0.]\n",
            "  [   0.    0.    0.    0.    0.]]\n",
            "\n",
            " [[   0.    0.    0.    0.    0.]\n",
            "  [   0.    0.   10.    0.    0.]]\n",
            "\n",
            " [[   0.    0.    0.  100.    0.]\n",
            "  [   0.    0.    0.    0.    0.]]\n",
            "\n",
            " [[   0.    0.    0.    0.    0.]\n",
            "  [   0.    0.    0.    0. 1000.]]\n",
            "\n",
            " [[   0.    0.    0.    0.    1.]\n",
            "  [   0.    0.    0.    0.    0.]]]\n"
          ]
        }
      ]
    },
    {
      "cell_type": "code",
      "source": [
        "gamma = 0.75"
      ],
      "metadata": {
        "id": "JkQRaut3MHgK"
      },
      "execution_count": 27,
      "outputs": []
    },
    {
      "cell_type": "code",
      "source": [
        "policy  = [0 for s in range (N_STATES)]\n",
        "V = np.zeros(N_STATES)\n",
        "print(\"INTIAL POLICY\",policy)"
      ],
      "metadata": {
        "colab": {
          "base_uri": "https://localhost:8080/"
        },
        "id": "0KDTR-2sMHjY",
        "outputId": "a15656a3-b7bb-4364-a013-a68b135ca585"
      },
      "execution_count": 28,
      "outputs": [
        {
          "output_type": "stream",
          "name": "stdout",
          "text": [
            "INTIAL POLICY [0, 0, 0, 0, 0]\n"
          ]
        }
      ]
    },
    {
      "cell_type": "code",
      "source": [
        "is_value_changed =True\n",
        "iterations = 0\n",
        "while is_value_changed:\n",
        "   is_value_changed = False\n",
        "   iterations +=1\n",
        "  ##run iteration for each state\n",
        "   for s in range(N_STATES):\n",
        "    V[s]=sum([P[s,policy[s],s1]*(R[s,policy[s],s1]+ gamma*V[s1]) for s1 in range (N_STATES)])"
      ],
      "metadata": {
        "id": "tCsKpqJ-MPYa"
      },
      "execution_count": 29,
      "outputs": []
    },
    {
      "cell_type": "code",
      "source": [
        "for s in range (N_STATES):\n",
        "  q_best = V[s]"
      ],
      "metadata": {
        "id": "75wzcPzmMPbp"
      },
      "execution_count": 30,
      "outputs": []
    },
    {
      "cell_type": "code",
      "source": [
        "print(s)"
      ],
      "metadata": {
        "colab": {
          "base_uri": "https://localhost:8080/"
        },
        "id": "uAKYJDBIMPes",
        "outputId": "7a9fdff8-565d-4fbd-b814-f33cacec9d3d"
      },
      "execution_count": 31,
      "outputs": [
        {
          "output_type": "stream",
          "name": "stdout",
          "text": [
            "4\n"
          ]
        }
      ]
    },
    {
      "cell_type": "code",
      "source": [
        "print(q_best)"
      ],
      "metadata": {
        "colab": {
          "base_uri": "https://localhost:8080/"
        },
        "id": "Uq7Rp1-ZMPos",
        "outputId": "7b07fc48-933a-41c0-c8d0-2bd82d8607a6"
      },
      "execution_count": 32,
      "outputs": [
        {
          "output_type": "stream",
          "name": "stdout",
          "text": [
            "1.0\n"
          ]
        }
      ]
    },
    {
      "cell_type": "code",
      "source": [
        "for a in range (N_ACTIONS):\n",
        "  q_sa = sum([P[s,a,s1] * (R[s,a,s1] + gamma * V[s1]) for s1 in range (N_STATES)])\n",
        "  if q_sa > q_best:\n",
        "    print(\"State\", s , \":q_sa\", q_sa,\"q_best\", q_best)\n",
        "    policy[s]=a\n",
        "    q_best=q_sa\n",
        "    is_value_changed=True"
      ],
      "metadata": {
        "colab": {
          "base_uri": "https://localhost:8080/"
        },
        "id": "KdTKXtMgMXV7",
        "outputId": "ce09f855-fdac-4607-e3e8-5b96830c4040"
      },
      "execution_count": 33,
      "outputs": [
        {
          "output_type": "stream",
          "name": "stdout",
          "text": [
            "State 4 :q_sa 1.75 q_best 1.0\n"
          ]
        }
      ]
    },
    {
      "cell_type": "code",
      "source": [
        "print(\"Iteration:\" , iterations)"
      ],
      "metadata": {
        "colab": {
          "base_uri": "https://localhost:8080/"
        },
        "id": "220TlVENMXZa",
        "outputId": "0691e893-486a-4966-fe2f-77567631f010"
      },
      "execution_count": 34,
      "outputs": [
        {
          "output_type": "stream",
          "name": "stdout",
          "text": [
            "Iteration: 1\n"
          ]
        }
      ]
    },
    {
      "cell_type": "code",
      "source": [
        "print(q_best)"
      ],
      "metadata": {
        "colab": {
          "base_uri": "https://localhost:8080/"
        },
        "id": "cnWi9YbdMXdB",
        "outputId": "4f10fa99-3422-4798-c952-6f5e5512c8a3"
      },
      "execution_count": 35,
      "outputs": [
        {
          "output_type": "stream",
          "name": "stdout",
          "text": [
            "1.75\n"
          ]
        }
      ]
    },
    {
      "cell_type": "code",
      "source": [
        "print(V)"
      ],
      "metadata": {
        "colab": {
          "base_uri": "https://localhost:8080/"
        },
        "id": "ypk3CDiKMc1i",
        "outputId": "df6ba1b6-e790-49f8-d6fe-bb6969a68e71"
      },
      "execution_count": 36,
      "outputs": [
        {
          "output_type": "stream",
          "name": "stdout",
          "text": [
            "[  1.   0. 100.   0.   1.]\n"
          ]
        }
      ]
    },
    {
      "cell_type": "code",
      "source": [
        "print(policy)"
      ],
      "metadata": {
        "colab": {
          "base_uri": "https://localhost:8080/"
        },
        "id": "aIExlO8tMc4o",
        "outputId": "e46f6051-1fe7-4711-8c6b-8feba8b4f85b"
      },
      "execution_count": 37,
      "outputs": [
        {
          "output_type": "stream",
          "name": "stdout",
          "text": [
            "[0, 0, 0, 0, 0]\n"
          ]
        }
      ]
    }
  ]
}