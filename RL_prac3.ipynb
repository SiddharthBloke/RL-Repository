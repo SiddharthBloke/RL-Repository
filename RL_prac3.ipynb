{
  "nbformat": 4,
  "nbformat_minor": 0,
  "metadata": {
    "colab": {
      "name": "RL_prac3.ipynb",
      "provenance": [],
      "authorship_tag": "ABX9TyP1PxY89hIGO1IQPGES+J7I",
      "include_colab_link": true
    },
    "kernelspec": {
      "name": "python3",
      "display_name": "Python 3"
    },
    "language_info": {
      "name": "python"
    }
  },
  "cells": [
    {
      "cell_type": "markdown",
      "metadata": {
        "id": "view-in-github",
        "colab_type": "text"
      },
      "source": [
        "<a href=\"https://colab.research.google.com/github/SiddharthBloke/RL-Repository/blob/main/RL_prac3.ipynb\" target=\"_parent\"><img src=\"https://colab.research.google.com/assets/colab-badge.svg\" alt=\"Open In Colab\"/></a>"
      ]
    },
    {
      "cell_type": "code",
      "execution_count": null,
      "metadata": {
        "id": "5GF1fiHZK0jM"
      },
      "outputs": [],
      "source": [
        "import numpy as np\n",
        "import matplotlib.pyplot as plt\n",
        "import pandas as pd\n"
      ]
    },
    {
      "cell_type": "code",
      "source": [
        "df = pd.read_csv('Ads_Optimisation.csv')"
      ],
      "metadata": {
        "id": "FYw6lfEiL678"
      },
      "execution_count": null,
      "outputs": []
    },
    {
      "cell_type": "code",
      "source": [
        "import random\n",
        "N = 10000\n",
        "d = 10\n",
        "ads_selected = []\n",
        "total_reward = 0\n",
        "for i in range(0,N):\n",
        "  ad = random.randrange(d)\n",
        "  ads_selected.append(ad)\n",
        "  reward = df.values[i,ad]\n",
        "  total_reward = total_reward + reward"
      ],
      "metadata": {
        "id": "TdWMuYQcMeV0"
      },
      "execution_count": null,
      "outputs": []
    },
    {
      "cell_type": "code",
      "source": [
        "pd.Series(ads_selected).head(1500).value_counts(normalize = True)"
      ],
      "metadata": {
        "colab": {
          "base_uri": "https://localhost:8080/"
        },
        "id": "iTqBsOqdOWJA",
        "outputId": "85556738-3424-44b1-c78d-406656506df8"
      },
      "execution_count": null,
      "outputs": [
        {
          "output_type": "execute_result",
          "data": {
            "text/plain": [
              "4    0.106667\n",
              "8    0.104667\n",
              "6    0.104667\n",
              "7    0.103333\n",
              "3    0.102667\n",
              "2    0.102667\n",
              "1    0.098667\n",
              "9    0.096000\n",
              "0    0.092667\n",
              "5    0.088000\n",
              "dtype: float64"
            ]
          },
          "metadata": {},
          "execution_count": 13
        }
      ]
    },
    {
      "cell_type": "code",
      "source": [
        "import math\n",
        "N = 10000\n",
        "d = 10\n",
        "ads_selected = []\n",
        "number_of_selection = [0]*d\n",
        "sums_of_reward = [0]*d\n",
        "total_reward = 0"
      ],
      "metadata": {
        "id": "lM5VuFDUPGup"
      },
      "execution_count": null,
      "outputs": []
    },
    {
      "cell_type": "code",
      "source": [
        "for n in range(0,N):\n",
        "  ad = 0\n",
        "  max_upper_bound = 0\n",
        "  for i in range(0,d):\n",
        "    if (number_of_selection[i] > 0):\n",
        "      average_reward = sums_of_reward[i] / number_of_selection[i]\n",
        "      delta_i = math.sqrt(2 * math.log(n+1) / number_of_selection[i])\n",
        "      upper_bound = average_reward + delta_i\n",
        "    else:\n",
        "      upper_bound = 1e400\n",
        "    if upper_bound > max_upper_bound:\n",
        "      max_upper_bound = upper_bound\n",
        "      ad = i\n",
        "    ads_selected.append(ad)\n",
        "    number_of_selection[ad] += 1\n",
        "    reward = df.values[n, ad]\n",
        "    sums_of_reward[ad] += reward\n",
        "    total_reward += reward"
      ],
      "metadata": {
        "id": "yeTZcvPSShcC"
      },
      "execution_count": null,
      "outputs": []
    },
    {
      "cell_type": "code",
      "source": [
        "pd.Series(ads_selected).tail(1500).value_counts(normalize = True)"
      ],
      "metadata": {
        "colab": {
          "base_uri": "https://localhost:8080/"
        },
        "id": "_B5xQtHtVpXK",
        "outputId": "4326a8c4-d296-47f6-c4e8-559615fb72e8"
      },
      "execution_count": null,
      "outputs": [
        {
          "output_type": "execute_result",
          "data": {
            "text/plain": [
              "4    0.6\n",
              "0    0.4\n",
              "dtype: float64"
            ]
          },
          "metadata": {},
          "execution_count": 33
        }
      ]
    }
  ]
}